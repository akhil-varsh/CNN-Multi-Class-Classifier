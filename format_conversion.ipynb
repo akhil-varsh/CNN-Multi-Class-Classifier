{
 "cells": [
  {
   "cell_type": "markdown",
   "metadata": {},
   "source": [
    "# To Convert PyTorch Model to TensorFlow Lite"
   ]
  },
  {
   "cell_type": "markdown",
   "metadata": {},
   "source": [
    "### Step - 1: Convert PyTorch Model to ONNX"
   ]
  },
  {
   "cell_type": "code",
   "execution_count": 1,
   "metadata": {},
   "outputs": [
    {
     "name": "stdout",
     "output_type": "stream",
     "text": [
      "c:\\Users\\Akhil\\Python_Projects\\CNN-Multi-Class-Classifier\n"
     ]
    }
   ],
   "source": [
    "import os\n",
    "\n",
    "print(os.getcwd())\n"
   ]
  },
  {
   "cell_type": "code",
   "execution_count": 2,
   "metadata": {},
   "outputs": [
    {
     "name": "stderr",
     "output_type": "stream",
     "text": [
      "C:\\Users\\Akhil\\AppData\\Local\\Temp\\ipykernel_8620\\382827454.py:32: FutureWarning: You are using `torch.load` with `weights_only=False` (the current default value), which uses the default pickle module implicitly. It is possible to construct malicious pickle data which will execute arbitrary code during unpickling (See https://github.com/pytorch/pytorch/blob/main/SECURITY.md#untrusted-models for more details). In a future release, the default value for `weights_only` will be flipped to `True`. This limits the functions that could be executed during unpickling. Arbitrary objects will no longer be allowed to be loaded via this mode unless they are explicitly allowlisted by the user via `torch.serialization.add_safe_globals`. We recommend you start setting `weights_only=True` for any use case where you don't have full control of the loaded file. Please open an issue on GitHub for any issues related to this experimental feature.\n",
      "  model.load_state_dict(torch.load('deep_cnn_model.pth'))\n"
     ]
    }
   ],
   "source": [
    "import torch\n",
    "import torch.onnx\n",
    "import torch.nn as nn\n",
    "import torch.nn.functional as F\n",
    "\n",
    "# Define the DeepCNN model architecture\n",
    "class DeepCNN(nn.Module):\n",
    "    def __init__(self):\n",
    "        super(DeepCNN, self).__init__()\n",
    "        self.conv1 = nn.Conv2d(3, 16, kernel_size=3, stride=1, padding=1)  # 3 channels (RGB)\n",
    "        self.conv2 = nn.Conv2d(16, 32, kernel_size=3, stride=1, padding=1)\n",
    "        self.conv3 = nn.Conv2d(32, 64, kernel_size=3, stride=1, padding=1)\n",
    "        self.pool = nn.MaxPool2d(kernel_size=2, stride=2, padding=0)\n",
    "        \n",
    "        # Fully connected layers\n",
    "        self.fc1 = nn.Linear(64 * 28 * 28, 128)  # Adjust these dimensions to match your model\n",
    "        self.fc2 = nn.Linear(128, 3)  # 3 classes: car, person, dog\n",
    "\n",
    "    def forward(self, x):\n",
    "        x = self.pool(F.relu(self.conv1(x)))\n",
    "        x = self.pool(F.relu(self.conv2(x)))\n",
    "        x = self.pool(F.relu(self.conv3(x)))\n",
    "        x = x.view(-1, 64 * 28 * 28)  # Flatten the output\n",
    "        x = F.relu(self.fc1(x))\n",
    "        x = self.fc2(x)\n",
    "        return x\n",
    "\n",
    "# Step 1: Instantiate the model\n",
    "model = DeepCNN()\n",
    "\n",
    "# Step 2: Load the saved model's state dictionary\n",
    "model.load_state_dict(torch.load('deep_cnn_model.pth'))\n",
    "\n",
    "# Step 3: Set the model to evaluation mode\n",
    "model.eval()\n",
    "\n",
    "\n",
    "\n",
    "# Step 4: Create a dummy input matching the input size of your model (3x224x224 for an RGB image)\n",
    "dummy_input = torch.randn(1, 3, 224, 224)\n",
    "\n",
    "# Step 5: Export the model to ONNX\n",
    "torch.onnx.export(model, dummy_input, 'deep_cnn_model.onnx', opset_version=11)\n"
   ]
  },
  {
   "cell_type": "markdown",
   "metadata": {},
   "source": [
    "### Alternative way to check input & output nodes is to upload your model file in Netron (https://netron.app/)"
   ]
  },
  {
   "cell_type": "code",
   "execution_count": 1,
   "metadata": {},
   "outputs": [
    {
     "name": "stdout",
     "output_type": "stream",
     "text": [
      "Input Nodes:\n",
      "Name: input.1, Shape: [dim_value: 1\n",
      ", dim_value: 3\n",
      ", dim_value: 224\n",
      ", dim_value: 224\n",
      "]\n",
      "\n",
      "Output Nodes:\n",
      "Name: 24, Shape: [dim_value: 1\n",
      ", dim_value: 3\n",
      "]\n"
     ]
    }
   ],
   "source": [
    "import onnx\n",
    "\n",
    "# Load the ONNX model\n",
    "model = onnx.load(\"deep_cnn_model.onnx\")\n",
    "\n",
    "# Get the graph from the model\n",
    "graph = model.graph\n",
    "\n",
    "# Print input nodes\n",
    "print(\"Input Nodes:\")\n",
    "for input in graph.input:\n",
    "    print(f\"Name: {input.name}, Shape: {input.type.tensor_type.shape.dim}\")\n",
    "\n",
    "# Print output nodes\n",
    "print(\"\\nOutput Nodes:\")\n",
    "for output in graph.output:\n",
    "    print(f\"Name: {output.name}, Shape: {output.type.tensor_type.shape.dim}\")\n"
   ]
  },
  {
   "cell_type": "markdown",
   "metadata": {},
   "source": [
    "## Checking if model is corrupted!"
   ]
  },
  {
   "cell_type": "code",
   "execution_count": 2,
   "metadata": {},
   "outputs": [
    {
     "name": "stdout",
     "output_type": "stream",
     "text": [
      "ONNX model is valid!\n"
     ]
    }
   ],
   "source": [
    "import onnx\n",
    "\n",
    "# Try loading the ONNX model to ensure it's not corrupted\n",
    "try:\n",
    "    model = onnx.load(\"deep_cnn_model.onnx\")\n",
    "    onnx.checker.check_model(model)\n",
    "    print(\"ONNX model is valid!\")\n",
    "except Exception as e:\n",
    "    print(f\"Error loading ONNX model: {e}\")\n"
   ]
  },
  {
   "cell_type": "code",
   "execution_count": 4,
   "metadata": {},
   "outputs": [
    {
     "name": "stderr",
     "output_type": "stream",
     "text": [
      "C:\\Users\\Akhil\\AppData\\Local\\Temp\\ipykernel_14276\\2053466231.py:7: FutureWarning: You are using `torch.load` with `weights_only=False` (the current default value), which uses the default pickle module implicitly. It is possible to construct malicious pickle data which will execute arbitrary code during unpickling (See https://github.com/pytorch/pytorch/blob/main/SECURITY.md#untrusted-models for more details). In a future release, the default value for `weights_only` will be flipped to `True`. This limits the functions that could be executed during unpickling. Arbitrary objects will no longer be allowed to be loaded via this mode unless they are explicitly allowlisted by the user via `torch.serialization.add_safe_globals`. We recommend you start setting `weights_only=True` for any use case where you don't have full control of the loaded file. Please open an issue on GitHub for any issues related to this experimental feature.\n",
      "  model.load_state_dict(torch.load('deep_cnn_model.pth'))\n"
     ]
    }
   ],
   "source": [
    "import torch\n",
    "import torch.onnx\n",
    "from model import DeepCNN  # Assuming your model class is in deep_cnn_model.py\n",
    "\n",
    "# Load your model\n",
    "model = DeepCNN()\n",
    "model.load_state_dict(torch.load('deep_cnn_model.pth'))\n",
    "model.eval()\n",
    "\n",
    "# Dummy input for the ONNX export (assuming input images are 3x224x224 RGB)\n",
    "dummy_input = torch.randn(1, 3, 224, 224)\n",
    "\n",
    "# Export the model to ONNX\n",
    "torch.onnx.export(model, dummy_input, 'model.onnx', opset_version=11)\n"
   ]
  },
  {
   "cell_type": "code",
   "execution_count": null,
   "metadata": {},
   "outputs": [],
   "source": []
  }
 ],
 "metadata": {
  "kernelspec": {
   "display_name": "Python 3",
   "language": "python",
   "name": "python3"
  },
  "language_info": {
   "codemirror_mode": {
    "name": "ipython",
    "version": 3
   },
   "file_extension": ".py",
   "mimetype": "text/x-python",
   "name": "python",
   "nbconvert_exporter": "python",
   "pygments_lexer": "ipython3",
   "version": "3.12.4"
  }
 },
 "nbformat": 4,
 "nbformat_minor": 2
}
